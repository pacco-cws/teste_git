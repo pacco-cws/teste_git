{
 "cells": [
  {
   "cell_type": "code",
   "execution_count": 1,
   "metadata": {},
   "outputs": [],
   "source": [
    "from utils.utils import carregar_dados, checar_dados_iniciais"
   ]
  },
  {
   "cell_type": "code",
   "execution_count": 2,
   "metadata": {},
   "outputs": [
    {
     "name": "stdout",
     "output_type": "stream",
     "text": [
      "Dados carregados com sucesso de: data/clientes.csv\n"
     ]
    }
   ],
   "source": [
    "df = carregar_dados('data/clientes.csv')"
   ]
  },
  {
   "cell_type": "code",
   "execution_count": 3,
   "metadata": {},
   "outputs": [
    {
     "name": "stdout",
     "output_type": "stream",
     "text": [
      "\n",
      "--- Checagem Inicial dos Dados ---\n",
      "Número de linhas: 5\n",
      "Número de colunas: 3\n",
      "\n",
      "Tipos de dados das colunas:\n",
      "nome      object\n",
      "idade      int64\n",
      "cidade    object\n",
      "dtype: object\n",
      "\n",
      "Valores ausentes por coluna:\n",
      "nome      0\n",
      "idade     0\n",
      "cidade    0\n",
      "dtype: int64\n",
      "\n",
      "Primeiras 5 linhas:\n",
      "      nome  idade          cidade\n",
      "0    Alice     30          Santos\n",
      "1      Bob     25       São Paulo\n",
      "2   Carlos     35  Rio de Janeiro\n",
      "3    Diana     28          Santos\n",
      "4  Eduardo     40  Belo Horizonte\n"
     ]
    }
   ],
   "source": [
    "checar_dados_iniciais(df)"
   ]
  }
 ],
 "metadata": {
  "kernelspec": {
   "display_name": "Python 3",
   "language": "python",
   "name": "python3"
  },
  "language_info": {
   "codemirror_mode": {
    "name": "ipython",
    "version": 3
   },
   "file_extension": ".py",
   "mimetype": "text/x-python",
   "name": "python",
   "nbconvert_exporter": "python",
   "pygments_lexer": "ipython3",
   "version": "3.12.3"
  }
 },
 "nbformat": 4,
 "nbformat_minor": 2
}
